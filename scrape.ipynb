{
 "cells": [
  {
   "cell_type": "code",
   "execution_count": 28,
   "metadata": {},
   "outputs": [],
   "source": [
    "from selenium import webdriver\n",
    "from selenium.webdriver.common.by import By\n",
    "from selenium.webdriver.support.ui import WebDriverWait\n",
    "from selenium.webdriver.support import expected_conditions as EC\n",
    "import pandas as pd\n",
    "from datetime import datetime, timedelta\n",
    "\n",
    "driver = webdriver.Chrome()\n",
    "\n",
    "start_date = datetime(2024, 3, 14)  \n",
    "end_date = datetime(2023, 9, 29)  \n",
    "\n",
    "data = []\n",
    "\n",
    "def scrape_table(date):\n",
    "    try:\n",
    "        driver.get(\"https://kalimatimarket.gov.np/price\")\n",
    "        date_input = WebDriverWait(driver, 10).until(\n",
    "            EC.presence_of_element_located((By.ID, \"datePricing\"))\n",
    "        )\n",
    "\n",
    "        date_input.clear()\n",
    "        date_input.send_keys(date.strftime(\"%m-%d-%Y\"))\n",
    "\n",
    "        submit_button = WebDriverWait(driver, 10).until(\n",
    "        EC.element_to_be_clickable((By.CSS_SELECTOR, \"button.btn-theme.comment-btn\"))\n",
    "    )\n",
    "        submit_button.click()\n",
    "\n",
    "        table = WebDriverWait(driver, 10).until(\n",
    "            EC.presence_of_element_located((By.ID, \"commodityPriceParticular\"))\n",
    "        )\n",
    "\n",
    "        rows = table.find_elements(By.TAG_NAME, \"tr\")\n",
    "        for row in rows:\n",
    "            cols = row.find_elements(By.TAG_NAME, \"td\")\n",
    "            cols = [col.text for col in cols]\n",
    "            if cols:\n",
    "                cols.append(date.date()) \n",
    "                data.append(cols)\n",
    "\n",
    "    except Exception as e:\n",
    "        print(f\"Error scraping data for {date.date()}: {e}\")\n",
    "\n",
    "current_date = start_date\n",
    "driver.get(\"https://kalimatimarket.gov.np/lang/en\")\n",
    "while current_date >= end_date:\n",
    "    scrape_table(current_date)\n",
    "    current_date -= timedelta(days=1)\n",
    "\n",
    "driver.quit()\n",
    "\n",
    "# Create a DataFrame from the data\n",
    "df = pd.DataFrame(data, columns=[\"Commodity\", \"Unit\", \"Minimum\", \"Maximum\", \"Average\", \"Date\"])\n",
    "\n",
    "# Print the DataFrame\n",
    "print(df)"
   ]
  },
  {
   "cell_type": "code",
   "execution_count": null,
   "metadata": {},
   "outputs": [],
   "source": [
    "import pandas as pd\n",
    "df_train = pd.read_csv('kalimati-tarkari-prices-from-may-2021-to-september-2023.csv',)\n",
    "df_train.columns = [\"Commodity\", \"Date\", \"Unit\",\"Minimum\", \"Maximum\", \"Average\"]  \n",
    "df_train"
   ]
  },
  {
   "cell_type": "code",
   "execution_count": null,
   "metadata": {},
   "outputs": [],
   "source": [
    "df_train['Date'][40000]"
   ]
  },
  {
   "cell_type": "code",
   "execution_count": null,
   "metadata": {},
   "outputs": [],
   "source": [
    "df_train.describe()"
   ]
  },
  {
   "cell_type": "code",
   "execution_count": null,
   "metadata": {},
   "outputs": [],
   "source": [
    "filtered_df = df_train[[\"Commodity\",\"Average\",\"Date\"]]\n",
    "filtered_df"
   ]
  },
  {
   "cell_type": "code",
   "execution_count": null,
   "metadata": {},
   "outputs": [],
   "source": [
    "def convert_to_yyyy_mm_dd(date_str):\n",
    "    try:\n",
    "        return pd.to_datetime(date_str).strftime('%Y-%m-%d')\n",
    "    except ValueError:\n",
    "        return pd.to_datetime(date_str, format='%d/%m/%Y').strftime('%Y-%m-%d')\n",
    "\n",
    "# Apply the custom function to the mixed date column\n",
    "filtered_df['Date'] = filtered_df['Date'].apply(convert_to_yyyy_mm_dd)"
   ]
  },
  {
   "cell_type": "code",
   "execution_count": null,
   "metadata": {},
   "outputs": [],
   "source": [
    "filtered_df"
   ]
  },
  {
   "cell_type": "code",
   "execution_count": null,
   "metadata": {},
   "outputs": [],
   "source": [
    "filtered_df['Average'] = filtered_df['Average'].apply(lambda x: float(x.replace('Rs', '')))\n",
    "filtered_df"
   ]
  },
  {
   "cell_type": "code",
   "execution_count": null,
   "metadata": {},
   "outputs": [],
   "source": [
    "type(filtered_df['Date'][0])"
   ]
  },
  {
   "cell_type": "code",
   "execution_count": null,
   "metadata": {},
   "outputs": [],
   "source": [
    "filtered_df"
   ]
  },
  {
   "cell_type": "code",
   "execution_count": null,
   "metadata": {},
   "outputs": [],
   "source": [
    "filtered_df['Date'] = pd.to_datetime(filtered_df['Date'])\n",
    "filtered_df['Date'][0]"
   ]
  },
  {
   "cell_type": "code",
   "execution_count": null,
   "metadata": {},
   "outputs": [],
   "source": [
    "import matplotlib.pyplot as plt\n",
    "filtered_df['Date'] = pd.to_datetime(filtered_df['Date'])\n",
    "\n",
    "commodities = ['Tomato Small(Indian)']\n",
    "for commodity in commodities:\n",
    "    commodity_data = filtered_df[filtered_df['Commodity'] == commodity]\n",
    "    plt.plot(commodity_data['Date'], commodity_data['Average'], label=commodity)\n",
    "\n",
    "plt.xlabel('Date')\n",
    "plt.ylabel('Average Price')\n",
    "plt.title('Average Price of Commodities Over Time')\n",
    "plt.legend()\n",
    "plt.xticks(rotation=45)\n",
    "plt.tight_layout()\n",
    "plt.show()"
   ]
  },
  {
   "cell_type": "code",
   "execution_count": null,
   "metadata": {},
   "outputs": [],
   "source": [
    "tomato_df = filtered_df[['Commodity']==\"Tomato Big(Indian)\"]\n",
    "filtered_df.head()"
   ]
  },
  {
   "cell_type": "code",
   "execution_count": null,
   "metadata": {},
   "outputs": [],
   "source": [
    "import pandas as pd\n",
    "from statsmodels.tsa.arima.model import ARIMA\n",
    "from sklearn.metrics import mean_squared_error\n",
    "\n",
    "train_size = int(len(df) * 0.8)\n",
    "train, test = filtered_df[:train_size], filtered_df.iloc[train_size:]\n",
    "\n",
    "model = ARIMA(train['Average'], order=(5,1,0))  # Example order, adjust as needed\n",
    "model_fit = model.fit()\n",
    "\n",
    "forecast = model_fit.forecast(steps=len(test))\n",
    "\n",
    "mse = mean_squared_error(test['Average'], forecast)\n",
    "print('Mean Squared Error:', mse)\n",
    "\n",
    "future_forecast = model_fit.forecast(steps=3)\n",
    "print('Forecasted Values for Next 3 Periods:', future_forecast)\n"
   ]
  },
  {
   "cell_type": "code",
   "execution_count": null,
   "metadata": {},
   "outputs": [],
   "source": []
  },
  {
   "cell_type": "code",
   "execution_count": null,
   "metadata": {},
   "outputs": [],
   "source": []
  }
 ],
 "metadata": {
  "kernelspec": {
   "display_name": "nepsum",
   "language": "python",
   "name": "python3"
  },
  "language_info": {
   "codemirror_mode": {
    "name": "ipython",
    "version": 3
   },
   "file_extension": ".py",
   "mimetype": "text/x-python",
   "name": "python",
   "nbconvert_exporter": "python",
   "pygments_lexer": "ipython3",
   "version": "3.10.13"
  }
 },
 "nbformat": 4,
 "nbformat_minor": 2
}
