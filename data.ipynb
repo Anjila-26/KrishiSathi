{
 "cells": [
  {
   "cell_type": "code",
   "execution_count": 38,
   "metadata": {},
   "outputs": [],
   "source": [
    "import pandas as pd"
   ]
  },
  {
   "cell_type": "code",
   "execution_count": 39,
   "metadata": {},
   "outputs": [],
   "source": [
    "df = pd.read_csv('df2023.csv')"
   ]
  },
  {
   "cell_type": "code",
   "execution_count": 40,
   "metadata": {},
   "outputs": [],
   "source": [
    "df['date'] = pd.to_datetime(df['date'])"
   ]
  },
  {
   "cell_type": "code",
   "execution_count": 41,
   "metadata": {},
   "outputs": [],
   "source": [
    "df['min'] = df['min'].str.replace('Rs ', '').str.replace(',', '').astype(float)\n",
    "df['max'] = df['max'].str.replace('Rs ', '').str.replace(',', '').astype(float)\n",
    "df['avg'] = df['avg'].str.replace('Rs ', '').str.replace(',', '').astype(float)"
   ]
  },
  {
   "cell_type": "code",
   "execution_count": 42,
   "metadata": {},
   "outputs": [
    {
     "data": {
      "text/html": [
       "<div>\n",
       "<style scoped>\n",
       "    .dataframe tbody tr th:only-of-type {\n",
       "        vertical-align: middle;\n",
       "    }\n",
       "\n",
       "    .dataframe tbody tr th {\n",
       "        vertical-align: top;\n",
       "    }\n",
       "\n",
       "    .dataframe thead th {\n",
       "        text-align: right;\n",
       "    }\n",
       "</style>\n",
       "<table border=\"1\" class=\"dataframe\">\n",
       "  <thead>\n",
       "    <tr style=\"text-align: right;\">\n",
       "      <th></th>\n",
       "      <th>product</th>\n",
       "      <th>date</th>\n",
       "      <th>min</th>\n",
       "      <th>max</th>\n",
       "      <th>avg</th>\n",
       "    </tr>\n",
       "  </thead>\n",
       "  <tbody>\n",
       "    <tr>\n",
       "      <th>0</th>\n",
       "      <td>Amla</td>\n",
       "      <td>2023-01-01</td>\n",
       "      <td>60.0</td>\n",
       "      <td>70.0</td>\n",
       "      <td>65.0</td>\n",
       "    </tr>\n",
       "    <tr>\n",
       "      <th>1</th>\n",
       "      <td>Apple(Fuji)</td>\n",
       "      <td>2023-01-01</td>\n",
       "      <td>240.0</td>\n",
       "      <td>280.0</td>\n",
       "      <td>260.0</td>\n",
       "    </tr>\n",
       "    <tr>\n",
       "      <th>2</th>\n",
       "      <td>Arum</td>\n",
       "      <td>2023-01-01</td>\n",
       "      <td>40.0</td>\n",
       "      <td>50.0</td>\n",
       "      <td>45.0</td>\n",
       "    </tr>\n",
       "    <tr>\n",
       "      <th>3</th>\n",
       "      <td>Asparagus</td>\n",
       "      <td>2023-01-01</td>\n",
       "      <td>0.0</td>\n",
       "      <td>0.0</td>\n",
       "      <td>0.0</td>\n",
       "    </tr>\n",
       "    <tr>\n",
       "      <th>4</th>\n",
       "      <td>Avocado</td>\n",
       "      <td>2023-01-01</td>\n",
       "      <td>300.0</td>\n",
       "      <td>350.0</td>\n",
       "      <td>325.0</td>\n",
       "    </tr>\n",
       "  </tbody>\n",
       "</table>\n",
       "</div>"
      ],
      "text/plain": [
       "       product       date    min    max    avg\n",
       "0         Amla 2023-01-01   60.0   70.0   65.0\n",
       "1  Apple(Fuji) 2023-01-01  240.0  280.0  260.0\n",
       "2         Arum 2023-01-01   40.0   50.0   45.0\n",
       "3    Asparagus 2023-01-01    0.0    0.0    0.0\n",
       "4      Avocado 2023-01-01  300.0  350.0  325.0"
      ]
     },
     "execution_count": 42,
     "metadata": {},
     "output_type": "execute_result"
    }
   ],
   "source": [
    "df.head()"
   ]
  },
  {
   "cell_type": "code",
   "execution_count": 43,
   "metadata": {},
   "outputs": [],
   "source": [
    "df.to_csv('df23.csv', index= False)"
   ]
  },
  {
   "cell_type": "code",
   "execution_count": 49,
   "metadata": {},
   "outputs": [],
   "source": [
    "df = pd.read_csv('df.csv')"
   ]
  },
  {
   "cell_type": "code",
   "execution_count": 50,
   "metadata": {},
   "outputs": [
    {
     "data": {
      "text/html": [
       "<div>\n",
       "<style scoped>\n",
       "    .dataframe tbody tr th:only-of-type {\n",
       "        vertical-align: middle;\n",
       "    }\n",
       "\n",
       "    .dataframe tbody tr th {\n",
       "        vertical-align: top;\n",
       "    }\n",
       "\n",
       "    .dataframe thead th {\n",
       "        text-align: right;\n",
       "    }\n",
       "</style>\n",
       "<table border=\"1\" class=\"dataframe\">\n",
       "  <thead>\n",
       "    <tr style=\"text-align: right;\">\n",
       "      <th></th>\n",
       "      <th>Commodity</th>\n",
       "      <th>Unit</th>\n",
       "      <th>Minimum</th>\n",
       "      <th>Maximum</th>\n",
       "      <th>Average</th>\n",
       "      <th>Date</th>\n",
       "    </tr>\n",
       "  </thead>\n",
       "  <tbody>\n",
       "    <tr>\n",
       "      <th>0</th>\n",
       "      <td>Tomato Big(Nepali)</td>\n",
       "      <td>KG</td>\n",
       "      <td>Rs 50.00</td>\n",
       "      <td>Rs 60.00</td>\n",
       "      <td>Rs 55.00</td>\n",
       "      <td>2024-03-13</td>\n",
       "    </tr>\n",
       "    <tr>\n",
       "      <th>1</th>\n",
       "      <td>Tomato Big(Indian)</td>\n",
       "      <td>KG</td>\n",
       "      <td>Rs 50.00</td>\n",
       "      <td>Rs 60.00</td>\n",
       "      <td>Rs 55.00</td>\n",
       "      <td>2024-03-13</td>\n",
       "    </tr>\n",
       "    <tr>\n",
       "      <th>2</th>\n",
       "      <td>Tomato Small(Local)</td>\n",
       "      <td>KG</td>\n",
       "      <td>Rs 20.00</td>\n",
       "      <td>Rs 30.00</td>\n",
       "      <td>Rs 25.00</td>\n",
       "      <td>2024-03-13</td>\n",
       "    </tr>\n",
       "    <tr>\n",
       "      <th>3</th>\n",
       "      <td>Tomato Small(Tunnel)</td>\n",
       "      <td>KG</td>\n",
       "      <td>Rs 25.00</td>\n",
       "      <td>Rs 35.00</td>\n",
       "      <td>Rs 30.00</td>\n",
       "      <td>2024-03-13</td>\n",
       "    </tr>\n",
       "    <tr>\n",
       "      <th>4</th>\n",
       "      <td>Tomato Small(Indian)</td>\n",
       "      <td>KG</td>\n",
       "      <td>Rs 25.00</td>\n",
       "      <td>Rs 35.00</td>\n",
       "      <td>Rs 30.00</td>\n",
       "      <td>2024-03-13</td>\n",
       "    </tr>\n",
       "  </tbody>\n",
       "</table>\n",
       "</div>"
      ],
      "text/plain": [
       "              Commodity Unit   Minimum   Maximum   Average        Date\n",
       "0    Tomato Big(Nepali)   KG  Rs 50.00  Rs 60.00  Rs 55.00  2024-03-13\n",
       "1    Tomato Big(Indian)   KG  Rs 50.00  Rs 60.00  Rs 55.00  2024-03-13\n",
       "2   Tomato Small(Local)   KG  Rs 20.00  Rs 30.00  Rs 25.00  2024-03-13\n",
       "3  Tomato Small(Tunnel)   KG  Rs 25.00  Rs 35.00  Rs 30.00  2024-03-13\n",
       "4  Tomato Small(Indian)   KG  Rs 25.00  Rs 35.00  Rs 30.00  2024-03-13"
      ]
     },
     "execution_count": 50,
     "metadata": {},
     "output_type": "execute_result"
    }
   ],
   "source": [
    "df.head()"
   ]
  },
  {
   "cell_type": "code",
   "execution_count": 51,
   "metadata": {},
   "outputs": [],
   "source": [
    "df.rename(columns={'Commodity': 'product', 'Date': 'date', 'Minimum': 'min', 'Maximum': 'max', 'Average': 'avg'}, inplace=True)\n"
   ]
  },
  {
   "cell_type": "code",
   "execution_count": 52,
   "metadata": {},
   "outputs": [
    {
     "data": {
      "text/html": [
       "<div>\n",
       "<style scoped>\n",
       "    .dataframe tbody tr th:only-of-type {\n",
       "        vertical-align: middle;\n",
       "    }\n",
       "\n",
       "    .dataframe tbody tr th {\n",
       "        vertical-align: top;\n",
       "    }\n",
       "\n",
       "    .dataframe thead th {\n",
       "        text-align: right;\n",
       "    }\n",
       "</style>\n",
       "<table border=\"1\" class=\"dataframe\">\n",
       "  <thead>\n",
       "    <tr style=\"text-align: right;\">\n",
       "      <th></th>\n",
       "      <th>product</th>\n",
       "      <th>Unit</th>\n",
       "      <th>min</th>\n",
       "      <th>max</th>\n",
       "      <th>avg</th>\n",
       "      <th>date</th>\n",
       "    </tr>\n",
       "  </thead>\n",
       "  <tbody>\n",
       "    <tr>\n",
       "      <th>0</th>\n",
       "      <td>Tomato Big(Nepali)</td>\n",
       "      <td>KG</td>\n",
       "      <td>Rs 50.00</td>\n",
       "      <td>Rs 60.00</td>\n",
       "      <td>Rs 55.00</td>\n",
       "      <td>2024-03-13</td>\n",
       "    </tr>\n",
       "    <tr>\n",
       "      <th>1</th>\n",
       "      <td>Tomato Big(Indian)</td>\n",
       "      <td>KG</td>\n",
       "      <td>Rs 50.00</td>\n",
       "      <td>Rs 60.00</td>\n",
       "      <td>Rs 55.00</td>\n",
       "      <td>2024-03-13</td>\n",
       "    </tr>\n",
       "    <tr>\n",
       "      <th>2</th>\n",
       "      <td>Tomato Small(Local)</td>\n",
       "      <td>KG</td>\n",
       "      <td>Rs 20.00</td>\n",
       "      <td>Rs 30.00</td>\n",
       "      <td>Rs 25.00</td>\n",
       "      <td>2024-03-13</td>\n",
       "    </tr>\n",
       "    <tr>\n",
       "      <th>3</th>\n",
       "      <td>Tomato Small(Tunnel)</td>\n",
       "      <td>KG</td>\n",
       "      <td>Rs 25.00</td>\n",
       "      <td>Rs 35.00</td>\n",
       "      <td>Rs 30.00</td>\n",
       "      <td>2024-03-13</td>\n",
       "    </tr>\n",
       "    <tr>\n",
       "      <th>4</th>\n",
       "      <td>Tomato Small(Indian)</td>\n",
       "      <td>KG</td>\n",
       "      <td>Rs 25.00</td>\n",
       "      <td>Rs 35.00</td>\n",
       "      <td>Rs 30.00</td>\n",
       "      <td>2024-03-13</td>\n",
       "    </tr>\n",
       "  </tbody>\n",
       "</table>\n",
       "</div>"
      ],
      "text/plain": [
       "                product Unit       min       max       avg        date\n",
       "0    Tomato Big(Nepali)   KG  Rs 50.00  Rs 60.00  Rs 55.00  2024-03-13\n",
       "1    Tomato Big(Indian)   KG  Rs 50.00  Rs 60.00  Rs 55.00  2024-03-13\n",
       "2   Tomato Small(Local)   KG  Rs 20.00  Rs 30.00  Rs 25.00  2024-03-13\n",
       "3  Tomato Small(Tunnel)   KG  Rs 25.00  Rs 35.00  Rs 30.00  2024-03-13\n",
       "4  Tomato Small(Indian)   KG  Rs 25.00  Rs 35.00  Rs 30.00  2024-03-13"
      ]
     },
     "execution_count": 52,
     "metadata": {},
     "output_type": "execute_result"
    }
   ],
   "source": [
    "df.head()"
   ]
  },
  {
   "cell_type": "code",
   "execution_count": 53,
   "metadata": {},
   "outputs": [],
   "source": [
    "df.drop(columns=['Unit'], inplace=True)\n"
   ]
  },
  {
   "cell_type": "code",
   "execution_count": 54,
   "metadata": {},
   "outputs": [
    {
     "data": {
      "text/html": [
       "<div>\n",
       "<style scoped>\n",
       "    .dataframe tbody tr th:only-of-type {\n",
       "        vertical-align: middle;\n",
       "    }\n",
       "\n",
       "    .dataframe tbody tr th {\n",
       "        vertical-align: top;\n",
       "    }\n",
       "\n",
       "    .dataframe thead th {\n",
       "        text-align: right;\n",
       "    }\n",
       "</style>\n",
       "<table border=\"1\" class=\"dataframe\">\n",
       "  <thead>\n",
       "    <tr style=\"text-align: right;\">\n",
       "      <th></th>\n",
       "      <th>product</th>\n",
       "      <th>min</th>\n",
       "      <th>max</th>\n",
       "      <th>avg</th>\n",
       "      <th>date</th>\n",
       "    </tr>\n",
       "  </thead>\n",
       "  <tbody>\n",
       "    <tr>\n",
       "      <th>0</th>\n",
       "      <td>Tomato Big(Nepali)</td>\n",
       "      <td>Rs 50.00</td>\n",
       "      <td>Rs 60.00</td>\n",
       "      <td>Rs 55.00</td>\n",
       "      <td>2024-03-13</td>\n",
       "    </tr>\n",
       "    <tr>\n",
       "      <th>1</th>\n",
       "      <td>Tomato Big(Indian)</td>\n",
       "      <td>Rs 50.00</td>\n",
       "      <td>Rs 60.00</td>\n",
       "      <td>Rs 55.00</td>\n",
       "      <td>2024-03-13</td>\n",
       "    </tr>\n",
       "    <tr>\n",
       "      <th>2</th>\n",
       "      <td>Tomato Small(Local)</td>\n",
       "      <td>Rs 20.00</td>\n",
       "      <td>Rs 30.00</td>\n",
       "      <td>Rs 25.00</td>\n",
       "      <td>2024-03-13</td>\n",
       "    </tr>\n",
       "    <tr>\n",
       "      <th>3</th>\n",
       "      <td>Tomato Small(Tunnel)</td>\n",
       "      <td>Rs 25.00</td>\n",
       "      <td>Rs 35.00</td>\n",
       "      <td>Rs 30.00</td>\n",
       "      <td>2024-03-13</td>\n",
       "    </tr>\n",
       "    <tr>\n",
       "      <th>4</th>\n",
       "      <td>Tomato Small(Indian)</td>\n",
       "      <td>Rs 25.00</td>\n",
       "      <td>Rs 35.00</td>\n",
       "      <td>Rs 30.00</td>\n",
       "      <td>2024-03-13</td>\n",
       "    </tr>\n",
       "  </tbody>\n",
       "</table>\n",
       "</div>"
      ],
      "text/plain": [
       "                product       min       max       avg        date\n",
       "0    Tomato Big(Nepali)  Rs 50.00  Rs 60.00  Rs 55.00  2024-03-13\n",
       "1    Tomato Big(Indian)  Rs 50.00  Rs 60.00  Rs 55.00  2024-03-13\n",
       "2   Tomato Small(Local)  Rs 20.00  Rs 30.00  Rs 25.00  2024-03-13\n",
       "3  Tomato Small(Tunnel)  Rs 25.00  Rs 35.00  Rs 30.00  2024-03-13\n",
       "4  Tomato Small(Indian)  Rs 25.00  Rs 35.00  Rs 30.00  2024-03-13"
      ]
     },
     "execution_count": 54,
     "metadata": {},
     "output_type": "execute_result"
    }
   ],
   "source": [
    "df.head()"
   ]
  },
  {
   "cell_type": "code",
   "execution_count": 55,
   "metadata": {},
   "outputs": [],
   "source": [
    "df['min'] = df['min'].str.replace('Rs ', '').str.replace(',', '').astype(float)\n",
    "df['max'] = df['max'].str.replace('Rs ', '').str.replace(',', '').astype(float)\n",
    "df['avg'] = df['avg'].str.replace('Rs ', '').str.replace(',', '').astype(float)"
   ]
  },
  {
   "cell_type": "code",
   "execution_count": 56,
   "metadata": {},
   "outputs": [],
   "source": [
    "df['date'] = pd.to_datetime(df['date'])"
   ]
  },
  {
   "cell_type": "code",
   "execution_count": 57,
   "metadata": {},
   "outputs": [
    {
     "data": {
      "text/html": [
       "<div>\n",
       "<style scoped>\n",
       "    .dataframe tbody tr th:only-of-type {\n",
       "        vertical-align: middle;\n",
       "    }\n",
       "\n",
       "    .dataframe tbody tr th {\n",
       "        vertical-align: top;\n",
       "    }\n",
       "\n",
       "    .dataframe thead th {\n",
       "        text-align: right;\n",
       "    }\n",
       "</style>\n",
       "<table border=\"1\" class=\"dataframe\">\n",
       "  <thead>\n",
       "    <tr style=\"text-align: right;\">\n",
       "      <th></th>\n",
       "      <th>product</th>\n",
       "      <th>min</th>\n",
       "      <th>max</th>\n",
       "      <th>avg</th>\n",
       "      <th>date</th>\n",
       "    </tr>\n",
       "  </thead>\n",
       "  <tbody>\n",
       "    <tr>\n",
       "      <th>0</th>\n",
       "      <td>Tomato Big(Nepali)</td>\n",
       "      <td>50.0</td>\n",
       "      <td>60.0</td>\n",
       "      <td>55.0</td>\n",
       "      <td>2024-03-13</td>\n",
       "    </tr>\n",
       "    <tr>\n",
       "      <th>1</th>\n",
       "      <td>Tomato Big(Indian)</td>\n",
       "      <td>50.0</td>\n",
       "      <td>60.0</td>\n",
       "      <td>55.0</td>\n",
       "      <td>2024-03-13</td>\n",
       "    </tr>\n",
       "    <tr>\n",
       "      <th>2</th>\n",
       "      <td>Tomato Small(Local)</td>\n",
       "      <td>20.0</td>\n",
       "      <td>30.0</td>\n",
       "      <td>25.0</td>\n",
       "      <td>2024-03-13</td>\n",
       "    </tr>\n",
       "    <tr>\n",
       "      <th>3</th>\n",
       "      <td>Tomato Small(Tunnel)</td>\n",
       "      <td>25.0</td>\n",
       "      <td>35.0</td>\n",
       "      <td>30.0</td>\n",
       "      <td>2024-03-13</td>\n",
       "    </tr>\n",
       "    <tr>\n",
       "      <th>4</th>\n",
       "      <td>Tomato Small(Indian)</td>\n",
       "      <td>25.0</td>\n",
       "      <td>35.0</td>\n",
       "      <td>30.0</td>\n",
       "      <td>2024-03-13</td>\n",
       "    </tr>\n",
       "  </tbody>\n",
       "</table>\n",
       "</div>"
      ],
      "text/plain": [
       "                product   min   max   avg       date\n",
       "0    Tomato Big(Nepali)  50.0  60.0  55.0 2024-03-13\n",
       "1    Tomato Big(Indian)  50.0  60.0  55.0 2024-03-13\n",
       "2   Tomato Small(Local)  20.0  30.0  25.0 2024-03-13\n",
       "3  Tomato Small(Tunnel)  25.0  35.0  30.0 2024-03-13\n",
       "4  Tomato Small(Indian)  25.0  35.0  30.0 2024-03-13"
      ]
     },
     "execution_count": 57,
     "metadata": {},
     "output_type": "execute_result"
    }
   ],
   "source": [
    "df.head()"
   ]
  },
  {
   "cell_type": "code",
   "execution_count": 58,
   "metadata": {},
   "outputs": [],
   "source": [
    "df = df[['product', 'date', 'min', 'max', 'avg']]"
   ]
  },
  {
   "cell_type": "code",
   "execution_count": 59,
   "metadata": {},
   "outputs": [],
   "source": [
    "df.to_csv('df23.csv', index=False)"
   ]
  },
  {
   "cell_type": "code",
   "execution_count": 60,
   "metadata": {},
   "outputs": [
    {
     "data": {
      "text/plain": [
       "product            object\n",
       "date       datetime64[ns]\n",
       "min               float64\n",
       "max               float64\n",
       "avg               float64\n",
       "dtype: object"
      ]
     },
     "execution_count": 60,
     "metadata": {},
     "output_type": "execute_result"
    }
   ],
   "source": [
    "df.dtypes"
   ]
  },
  {
   "cell_type": "code",
   "execution_count": 61,
   "metadata": {},
   "outputs": [
    {
     "data": {
      "text/plain": [
       "<bound method Series.isnull of 0      2024-03-13\n",
       "1      2024-03-13\n",
       "2      2024-03-13\n",
       "3      2024-03-13\n",
       "4      2024-03-13\n",
       "          ...    \n",
       "7372   2024-01-01\n",
       "7373   2024-01-01\n",
       "7374   2024-01-01\n",
       "7375   2024-01-01\n",
       "7376   2024-01-01\n",
       "Name: date, Length: 7377, dtype: datetime64[ns]>"
      ]
     },
     "execution_count": 61,
     "metadata": {},
     "output_type": "execute_result"
    }
   ],
   "source": [
    "df.date.isnull"
   ]
  },
  {
   "cell_type": "code",
   "execution_count": 62,
   "metadata": {},
   "outputs": [
    {
     "name": "stdout",
     "output_type": "stream",
     "text": [
      "Duplicate rows:\n",
      "Empty DataFrame\n",
      "Columns: [product, date, min, max, avg]\n",
      "Index: []\n"
     ]
    }
   ],
   "source": [
    "duplicate_rows = df.duplicated()\n",
    "\n",
    "print(\"Duplicate rows:\")\n",
    "print(df[duplicate_rows])"
   ]
  },
  {
   "cell_type": "code",
   "execution_count": null,
   "metadata": {},
   "outputs": [],
   "source": [
    "    "
   ]
  },
  {
   "cell_type": "code",
   "execution_count": null,
   "metadata": {},
   "outputs": [],
   "source": []
  }
 ],
 "metadata": {
  "kernelspec": {
   "display_name": "Python 3",
   "language": "python",
   "name": "python3"
  },
  "language_info": {
   "codemirror_mode": {
    "name": "ipython",
    "version": 3
   },
   "file_extension": ".py",
   "mimetype": "text/x-python",
   "name": "python",
   "nbconvert_exporter": "python",
   "pygments_lexer": "ipython3",
   "version": "3.10.4"
  }
 },
 "nbformat": 4,
 "nbformat_minor": 2
}
